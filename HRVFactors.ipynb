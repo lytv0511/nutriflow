{
 "cells": [
  {
   "cell_type": "markdown",
   "id": "6a9b5916",
   "metadata": {},
   "source": [
    "# HRV Impact Scoring for Machine Learning\n",
    "|Category|Factor|HRV Impact Score|Notes|\n",
    "|---------|-------|------------------|-------|\n",
    "|Physiological|Age|0.6|HRV declines steadily post-30|\n",
    "||Circadian rhythm disruption|0.7|Misaligned sleep lowers HRV|\n",
    "|Lifestyle|Physical acitivty (moderate)|-0.4|Boosts parasympathetic tone|\n",
    "||Overtraining|0.5|Suppresses recovery and HRV|\n",
    "||Sleep deprivation|0.8|One of the strongest suppressors|\n",
    "||Poor diet (high sugar/processed)|0.6|Drives metabolic stress and inflammation|\n",
    "||Hydration|0.2|Mild impact unless dehydrated|\n",
    "||Caffeine|0.3|Varies by individual sensitivity|\n",
    "|Environment|Sunlight exposure (monring)|-0.3|Enhances circadian rhythm & mood|\n",
    "||Noise pollution|0.5|Chronic stressor; lowers HRV|\n",
    "||Temperature extremes|0.4|Cold may boost, heat suppresses HRV|"
   ]
  }
 ],
 "metadata": {
  "language_info": {
   "name": "python"
  }
 },
 "nbformat": 4,
 "nbformat_minor": 5
}
