{
 "cells": [
  {
   "cell_type": "markdown",
   "id": "5124e4b3",
   "metadata": {},
   "source": [
    "# Import Statements"
   ]
  },
  {
   "cell_type": "code",
   "execution_count": 1,
   "id": "7f879a11",
   "metadata": {},
   "outputs": [
    {
     "name": "stderr",
     "output_type": "stream",
     "text": [
      "2025-07-05 11:20:22.451173: I external/local_xla/xla/tsl/cuda/cudart_stub.cc:32] Could not find cuda drivers on your machine, GPU will not be used.\n",
      "2025-07-05 11:20:22.749613: I external/local_xla/xla/tsl/cuda/cudart_stub.cc:32] Could not find cuda drivers on your machine, GPU will not be used.\n",
      "2025-07-05 11:20:22.918126: E external/local_xla/xla/stream_executor/cuda/cuda_fft.cc:467] Unable to register cuFFT factory: Attempting to register factory for plugin cuFFT when one has already been registered\n",
      "WARNING: All log messages before absl::InitializeLog() is called are written to STDERR\n",
      "E0000 00:00:1751714423.197781    3198 cuda_dnn.cc:8579] Unable to register cuDNN factory: Attempting to register factory for plugin cuDNN when one has already been registered\n",
      "E0000 00:00:1751714423.290765    3198 cuda_blas.cc:1407] Unable to register cuBLAS factory: Attempting to register factory for plugin cuBLAS when one has already been registered\n",
      "W0000 00:00:1751714423.943551    3198 computation_placer.cc:177] computation placer already registered. Please check linkage and avoid linking the same target more than once.\n",
      "W0000 00:00:1751714423.943586    3198 computation_placer.cc:177] computation placer already registered. Please check linkage and avoid linking the same target more than once.\n",
      "W0000 00:00:1751714423.943591    3198 computation_placer.cc:177] computation placer already registered. Please check linkage and avoid linking the same target more than once.\n",
      "W0000 00:00:1751714423.943594    3198 computation_placer.cc:177] computation placer already registered. Please check linkage and avoid linking the same target more than once.\n",
      "2025-07-05 11:20:24.011476: I tensorflow/core/platform/cpu_feature_guard.cc:210] This TensorFlow binary is optimized to use available CPU instructions in performance-critical operations.\n",
      "To enable the following instructions: AVX2 FMA, in other operations, rebuild TensorFlow with the appropriate compiler flags.\n"
     ]
    }
   ],
   "source": [
    "import numpy as np\n",
    "import pandas as pd\n",
    "import tensorflow as tf\n",
    "from tensorflow import keras\n",
    "from keras.models import Sequential\n",
    "from keras.layers import Conv1D, GlobalAveragePooling1D, Dense, Dropout, Input\n",
    "import os"
   ]
  },
  {
   "cell_type": "code",
   "execution_count": 2,
   "id": "ba09bc72",
   "metadata": {},
   "outputs": [
    {
     "name": "stdout",
     "output_type": "stream",
     "text": [
      "2.19.0\n"
     ]
    }
   ],
   "source": [
    "print(tf.__version__)"
   ]
  },
  {
   "cell_type": "markdown",
   "id": "bdd5c1e2",
   "metadata": {},
   "source": [
    "# Generate synthetic data and save as CSV if not present"
   ]
  },
  {
   "cell_type": "code",
   "execution_count": 3,
   "id": "62028682",
   "metadata": {},
   "outputs": [],
   "source": [
    "csv_path = \"health_data.csv\"\n",
    "if not os.path.exists(csv_path):\n",
    "    num_days = 120\n",
    "    np.random.seed(42)\n",
    "    dates = pd.date_range(end=pd.Timestamp.today(), periods=num_days)\n",
    "    df_synth = pd.DataFrame({\n",
    "        'date': dates,\n",
    "        'HRV': np.random.normal(50, 10, num_days),\n",
    "        'RHR': np.random.normal(60, 5, num_days),\n",
    "        'Sleep': np.random.normal(7, 1, num_days),\n",
    "        'Steps': np.random.normal(8000, 2000, num_days),\n",
    "        'Mood': np.random.normal(3, 1, num_days),\n",
    "        'Readiness': np.random.normal(75, 10, num_days)\n",
    "    })\n",
    "    df_synth.to_csv(csv_path, index=False)\n",
    "    print(f\"Synthetic data generated and saved to {csv_path}\")"
   ]
  },
  {
   "cell_type": "markdown",
   "id": "a3c3d259",
   "metadata": {},
   "source": [
    "# Load and preprocess data"
   ]
  },
  {
   "cell_type": "code",
   "execution_count": 4,
   "id": "8d425cbc",
   "metadata": {},
   "outputs": [],
   "source": [
    "df = pd.read_csv(csv_path, parse_dates=['date'])\n",
    "df = df.sort_values('date')\n",
    "\n",
    "feature_cols = ['HRV', 'RHR', 'Sleep', 'Steps', 'Mood']\n",
    "target_col = 'Readiness'\n",
    "\n",
    "df[feature_cols] = (df[feature_cols] - df[feature_cols].mean()) / df[feature_cols].std()"
   ]
  },
  {
   "cell_type": "markdown",
   "id": "888f559f",
   "metadata": {},
   "source": [
    "# Create sequences for model input"
   ]
  },
  {
   "cell_type": "code",
   "execution_count": 5,
   "id": "55f215f3",
   "metadata": {},
   "outputs": [
    {
     "name": "stdout",
     "output_type": "stream",
     "text": [
      "Shape of input X: (113, 7, 5)\n",
      "Shape of labels y: (113,)\n"
     ]
    }
   ],
   "source": [
    "sequence_length = 7\n",
    "X = []\n",
    "y = []\n",
    "\n",
    "for i in range(len(df)-sequence_length):\n",
    "    seq = df[feature_cols].iloc[i:i+sequence_length].values\n",
    "    label = df[target_col].iloc[i+sequence_length]\n",
    "    X.append(seq)\n",
    "    y.append(label)\n",
    "\n",
    "X = np.array(X)\n",
    "y = np.array(y)\n",
    "\n",
    "print(f\"Shape of input X: {X.shape}\")\n",
    "print(f\"Shape of labels y: {y.shape}\")\n",
    "    "
   ]
  },
  {
   "cell_type": "markdown",
   "id": "6323e9b0",
   "metadata": {},
   "source": [
    "# 3. Build the Conv1D model (TFLite-compatible)"
   ]
  },
  {
   "cell_type": "code",
   "execution_count": 6,
   "id": "83d5ace7",
   "metadata": {},
   "outputs": [
    {
     "name": "stderr",
     "output_type": "stream",
     "text": [
      "2025-07-05 11:20:27.259361: E external/local_xla/xla/stream_executor/cuda/cuda_platform.cc:51] failed call to cuInit: INTERNAL: CUDA error: Failed call to cuInit: UNKNOWN ERROR (303)\n"
     ]
    },
    {
     "data": {
      "text/html": [
       "<pre style=\"white-space:pre;overflow-x:auto;line-height:normal;font-family:Menlo,'DejaVu Sans Mono',consolas,'Courier New',monospace\"><span style=\"font-weight: bold\">Model: \"sequential\"</span>\n",
       "</pre>\n"
      ],
      "text/plain": [
       "\u001b[1mModel: \"sequential\"\u001b[0m\n"
      ]
     },
     "metadata": {},
     "output_type": "display_data"
    },
    {
     "data": {
      "text/html": [
       "<pre style=\"white-space:pre;overflow-x:auto;line-height:normal;font-family:Menlo,'DejaVu Sans Mono',consolas,'Courier New',monospace\">┏━━━━━━━━━━━━━━━━━━━━━━━━━━━━━━━━━┳━━━━━━━━━━━━━━━━━━━━━━━━┳━━━━━━━━━━━━━━━┓\n",
       "┃<span style=\"font-weight: bold\"> Layer (type)                    </span>┃<span style=\"font-weight: bold\"> Output Shape           </span>┃<span style=\"font-weight: bold\">       Param # </span>┃\n",
       "┡━━━━━━━━━━━━━━━━━━━━━━━━━━━━━━━━━╇━━━━━━━━━━━━━━━━━━━━━━━━╇━━━━━━━━━━━━━━━┩\n",
       "│ conv1d (<span style=\"color: #0087ff; text-decoration-color: #0087ff\">Conv1D</span>)                 │ (<span style=\"color: #00d7ff; text-decoration-color: #00d7ff\">None</span>, <span style=\"color: #00af00; text-decoration-color: #00af00\">7</span>, <span style=\"color: #00af00; text-decoration-color: #00af00\">32</span>)          │           <span style=\"color: #00af00; text-decoration-color: #00af00\">512</span> │\n",
       "├─────────────────────────────────┼────────────────────────┼───────────────┤\n",
       "│ global_average_pooling1d        │ (<span style=\"color: #00d7ff; text-decoration-color: #00d7ff\">None</span>, <span style=\"color: #00af00; text-decoration-color: #00af00\">32</span>)             │             <span style=\"color: #00af00; text-decoration-color: #00af00\">0</span> │\n",
       "│ (<span style=\"color: #0087ff; text-decoration-color: #0087ff\">GlobalAveragePooling1D</span>)        │                        │               │\n",
       "├─────────────────────────────────┼────────────────────────┼───────────────┤\n",
       "│ dense (<span style=\"color: #0087ff; text-decoration-color: #0087ff\">Dense</span>)                   │ (<span style=\"color: #00d7ff; text-decoration-color: #00d7ff\">None</span>, <span style=\"color: #00af00; text-decoration-color: #00af00\">32</span>)             │         <span style=\"color: #00af00; text-decoration-color: #00af00\">1,056</span> │\n",
       "├─────────────────────────────────┼────────────────────────┼───────────────┤\n",
       "│ dropout (<span style=\"color: #0087ff; text-decoration-color: #0087ff\">Dropout</span>)               │ (<span style=\"color: #00d7ff; text-decoration-color: #00d7ff\">None</span>, <span style=\"color: #00af00; text-decoration-color: #00af00\">32</span>)             │             <span style=\"color: #00af00; text-decoration-color: #00af00\">0</span> │\n",
       "├─────────────────────────────────┼────────────────────────┼───────────────┤\n",
       "│ dense_1 (<span style=\"color: #0087ff; text-decoration-color: #0087ff\">Dense</span>)                 │ (<span style=\"color: #00d7ff; text-decoration-color: #00d7ff\">None</span>, <span style=\"color: #00af00; text-decoration-color: #00af00\">1</span>)              │            <span style=\"color: #00af00; text-decoration-color: #00af00\">33</span> │\n",
       "└─────────────────────────────────┴────────────────────────┴───────────────┘\n",
       "</pre>\n"
      ],
      "text/plain": [
       "┏━━━━━━━━━━━━━━━━━━━━━━━━━━━━━━━━━┳━━━━━━━━━━━━━━━━━━━━━━━━┳━━━━━━━━━━━━━━━┓\n",
       "┃\u001b[1m \u001b[0m\u001b[1mLayer (type)                   \u001b[0m\u001b[1m \u001b[0m┃\u001b[1m \u001b[0m\u001b[1mOutput Shape          \u001b[0m\u001b[1m \u001b[0m┃\u001b[1m \u001b[0m\u001b[1m      Param #\u001b[0m\u001b[1m \u001b[0m┃\n",
       "┡━━━━━━━━━━━━━━━━━━━━━━━━━━━━━━━━━╇━━━━━━━━━━━━━━━━━━━━━━━━╇━━━━━━━━━━━━━━━┩\n",
       "│ conv1d (\u001b[38;5;33mConv1D\u001b[0m)                 │ (\u001b[38;5;45mNone\u001b[0m, \u001b[38;5;34m7\u001b[0m, \u001b[38;5;34m32\u001b[0m)          │           \u001b[38;5;34m512\u001b[0m │\n",
       "├─────────────────────────────────┼────────────────────────┼───────────────┤\n",
       "│ global_average_pooling1d        │ (\u001b[38;5;45mNone\u001b[0m, \u001b[38;5;34m32\u001b[0m)             │             \u001b[38;5;34m0\u001b[0m │\n",
       "│ (\u001b[38;5;33mGlobalAveragePooling1D\u001b[0m)        │                        │               │\n",
       "├─────────────────────────────────┼────────────────────────┼───────────────┤\n",
       "│ dense (\u001b[38;5;33mDense\u001b[0m)                   │ (\u001b[38;5;45mNone\u001b[0m, \u001b[38;5;34m32\u001b[0m)             │         \u001b[38;5;34m1,056\u001b[0m │\n",
       "├─────────────────────────────────┼────────────────────────┼───────────────┤\n",
       "│ dropout (\u001b[38;5;33mDropout\u001b[0m)               │ (\u001b[38;5;45mNone\u001b[0m, \u001b[38;5;34m32\u001b[0m)             │             \u001b[38;5;34m0\u001b[0m │\n",
       "├─────────────────────────────────┼────────────────────────┼───────────────┤\n",
       "│ dense_1 (\u001b[38;5;33mDense\u001b[0m)                 │ (\u001b[38;5;45mNone\u001b[0m, \u001b[38;5;34m1\u001b[0m)              │            \u001b[38;5;34m33\u001b[0m │\n",
       "└─────────────────────────────────┴────────────────────────┴───────────────┘\n"
      ]
     },
     "metadata": {},
     "output_type": "display_data"
    },
    {
     "data": {
      "text/html": [
       "<pre style=\"white-space:pre;overflow-x:auto;line-height:normal;font-family:Menlo,'DejaVu Sans Mono',consolas,'Courier New',monospace\"><span style=\"font-weight: bold\"> Total params: </span><span style=\"color: #00af00; text-decoration-color: #00af00\">1,601</span> (6.25 KB)\n",
       "</pre>\n"
      ],
      "text/plain": [
       "\u001b[1m Total params: \u001b[0m\u001b[38;5;34m1,601\u001b[0m (6.25 KB)\n"
      ]
     },
     "metadata": {},
     "output_type": "display_data"
    },
    {
     "data": {
      "text/html": [
       "<pre style=\"white-space:pre;overflow-x:auto;line-height:normal;font-family:Menlo,'DejaVu Sans Mono',consolas,'Courier New',monospace\"><span style=\"font-weight: bold\"> Trainable params: </span><span style=\"color: #00af00; text-decoration-color: #00af00\">1,601</span> (6.25 KB)\n",
       "</pre>\n"
      ],
      "text/plain": [
       "\u001b[1m Trainable params: \u001b[0m\u001b[38;5;34m1,601\u001b[0m (6.25 KB)\n"
      ]
     },
     "metadata": {},
     "output_type": "display_data"
    },
    {
     "data": {
      "text/html": [
       "<pre style=\"white-space:pre;overflow-x:auto;line-height:normal;font-family:Menlo,'DejaVu Sans Mono',consolas,'Courier New',monospace\"><span style=\"font-weight: bold\"> Non-trainable params: </span><span style=\"color: #00af00; text-decoration-color: #00af00\">0</span> (0.00 B)\n",
       "</pre>\n"
      ],
      "text/plain": [
       "\u001b[1m Non-trainable params: \u001b[0m\u001b[38;5;34m0\u001b[0m (0.00 B)\n"
      ]
     },
     "metadata": {},
     "output_type": "display_data"
    }
   ],
   "source": [
    "def build_readiness_model(seq_len, num_features):\n",
    "    model = Sequential([\n",
    "        Input(shape=(seq_len, num_features), name=\"input\"),\n",
    "        Conv1D(32, kernel_size=3, activation='relu', padding='same'),\n",
    "        GlobalAveragePooling1D(),\n",
    "        Dense(32, activation='relu'),\n",
    "        Dropout(0.2),\n",
    "        Dense(1, activation='linear')\n",
    "    ])\n",
    "    model.compile(optimizer='adam', loss='mse', metrics=['mae'])\n",
    "    return model\n",
    "\n",
    "model = build_readiness_model(sequence_length, len(feature_cols))\n",
    "model.summary()"
   ]
  },
  {
   "cell_type": "markdown",
   "id": "936b3d30",
   "metadata": {},
   "source": [
    "# Train the model"
   ]
  },
  {
   "cell_type": "code",
   "execution_count": 7,
   "id": "1935b4e9",
   "metadata": {},
   "outputs": [
    {
     "name": "stdout",
     "output_type": "stream",
     "text": [
      "Epoch 1/30\n",
      "12/12 - 1s - 101ms/step - loss: 5652.4355 - mae: 74.4255 - val_loss: 5505.0381 - val_mae: 73.5276\n",
      "Epoch 2/30\n",
      "12/12 - 0s - 5ms/step - loss: 5576.9927 - mae: 73.9174 - val_loss: 5440.9316 - val_mae: 73.0908\n",
      "Epoch 3/30\n",
      "12/12 - 0s - 6ms/step - loss: 5499.1743 - mae: 73.3837 - val_loss: 5361.6597 - val_mae: 72.5475\n",
      "Epoch 4/30\n",
      "12/12 - 0s - 5ms/step - loss: 5380.0298 - mae: 72.5805 - val_loss: 5265.9360 - val_mae: 71.8860\n",
      "Epoch 5/30\n",
      "12/12 - 0s - 6ms/step - loss: 5257.6348 - mae: 71.7288 - val_loss: 5148.1567 - val_mae: 71.0637\n",
      "Epoch 6/30\n",
      "12/12 - 0s - 6ms/step - loss: 5096.1538 - mae: 70.6049 - val_loss: 4997.7314 - val_mae: 69.9993\n",
      "Epoch 7/30\n",
      "12/12 - 0s - 6ms/step - loss: 4911.0503 - mae: 69.2439 - val_loss: 4810.6831 - val_mae: 68.6523\n",
      "Epoch 8/30\n",
      "12/12 - 0s - 6ms/step - loss: 4655.1621 - mae: 67.3802 - val_loss: 4590.2725 - val_mae: 67.0301\n",
      "Epoch 9/30\n",
      "12/12 - 0s - 12ms/step - loss: 4379.3569 - mae: 65.2936 - val_loss: 4331.4185 - val_mae: 65.0714\n",
      "Epoch 10/30\n",
      "12/12 - 0s - 5ms/step - loss: 4022.9365 - mae: 62.4642 - val_loss: 4031.8301 - val_mae: 62.7285\n",
      "Epoch 11/30\n",
      "12/12 - 0s - 13ms/step - loss: 3651.8274 - mae: 59.4827 - val_loss: 3695.9202 - val_mae: 59.9902\n",
      "Epoch 12/30\n",
      "12/12 - 0s - 6ms/step - loss: 3267.0781 - mae: 55.9580 - val_loss: 3332.9473 - val_mae: 56.8816\n",
      "Epoch 13/30\n",
      "12/12 - 0s - 5ms/step - loss: 2753.6204 - mae: 51.2124 - val_loss: 2947.6501 - val_mae: 53.3813\n",
      "Epoch 14/30\n",
      "12/12 - 0s - 6ms/step - loss: 2304.4282 - mae: 46.6557 - val_loss: 2546.5559 - val_mae: 49.4731\n",
      "Epoch 15/30\n",
      "12/12 - 0s - 8ms/step - loss: 1832.5447 - mae: 41.3123 - val_loss: 2153.7571 - val_mae: 45.3112\n",
      "Epoch 16/30\n",
      "12/12 - 0s - 10ms/step - loss: 1432.4373 - mae: 35.9167 - val_loss: 1783.3737 - val_mae: 40.9940\n",
      "Epoch 17/30\n",
      "12/12 - 0s - 6ms/step - loss: 1112.9521 - mae: 30.6171 - val_loss: 1440.0824 - val_mae: 36.5317\n",
      "Epoch 18/30\n",
      "12/12 - 0s - 6ms/step - loss: 769.6069 - mae: 24.7896 - val_loss: 1155.0272 - val_mae: 32.3567\n",
      "Epoch 19/30\n",
      "12/12 - 0s - 5ms/step - loss: 613.0552 - mae: 21.4588 - val_loss: 913.5087 - val_mae: 28.3262\n",
      "Epoch 20/30\n",
      "12/12 - 0s - 6ms/step - loss: 438.9505 - mae: 16.6267 - val_loss: 730.8791 - val_mae: 24.8537\n",
      "Epoch 21/30\n",
      "12/12 - 0s - 6ms/step - loss: 300.9164 - mae: 14.1098 - val_loss: 602.5356 - val_mae: 22.0772\n",
      "Epoch 22/30\n",
      "12/12 - 0s - 6ms/step - loss: 252.0124 - mae: 12.5797 - val_loss: 521.7593 - val_mae: 20.1463\n",
      "Epoch 23/30\n",
      "12/12 - 0s - 6ms/step - loss: 257.4368 - mae: 13.0757 - val_loss: 461.5807 - val_mae: 18.5762\n",
      "Epoch 24/30\n",
      "12/12 - 0s - 6ms/step - loss: 217.2886 - mae: 12.1443 - val_loss: 412.8657 - val_mae: 17.2198\n",
      "Epoch 25/30\n",
      "12/12 - 0s - 6ms/step - loss: 179.5582 - mae: 10.2757 - val_loss: 379.9971 - val_mae: 16.2546\n",
      "Epoch 26/30\n",
      "12/12 - 0s - 6ms/step - loss: 205.1931 - mae: 11.3593 - val_loss: 357.9472 - val_mae: 15.5899\n",
      "Epoch 27/30\n",
      "12/12 - 0s - 6ms/step - loss: 183.8808 - mae: 10.7650 - val_loss: 350.5958 - val_mae: 15.3984\n",
      "Epoch 28/30\n",
      "12/12 - 0s - 6ms/step - loss: 234.2724 - mae: 11.8974 - val_loss: 344.1811 - val_mae: 15.2105\n",
      "Epoch 29/30\n",
      "12/12 - 0s - 6ms/step - loss: 174.7073 - mae: 10.0746 - val_loss: 335.0845 - val_mae: 14.9709\n",
      "Epoch 30/30\n",
      "12/12 - 0s - 5ms/step - loss: 201.0823 - mae: 11.2607 - val_loss: 328.0898 - val_mae: 14.7986\n"
     ]
    }
   ],
   "source": [
    "history = model.fit(\n",
    "    X, y,\n",
    "    epochs=30,\n",
    "    batch_size=8,\n",
    "    validation_split=0.2,\n",
    "    verbose=2\n",
    ")"
   ]
  },
  {
   "cell_type": "markdown",
   "id": "46321bbe",
   "metadata": {},
   "source": [
    "# Export to Tensorflow Lite model"
   ]
  },
  {
   "cell_type": "code",
   "execution_count": 8,
   "id": "9d28b6c2",
   "metadata": {},
   "outputs": [
    {
     "name": "stdout",
     "output_type": "stream",
     "text": [
      "INFO:tensorflow:Assets written to: /tmp/tmp0kt46gwb/assets\n"
     ]
    },
    {
     "name": "stderr",
     "output_type": "stream",
     "text": [
      "INFO:tensorflow:Assets written to: /tmp/tmp0kt46gwb/assets\n"
     ]
    },
    {
     "name": "stdout",
     "output_type": "stream",
     "text": [
      "Saved artifact at '/tmp/tmp0kt46gwb'. The following endpoints are available:\n",
      "\n",
      "* Endpoint 'serve'\n",
      "  args_0 (POSITIONAL_ONLY): TensorSpec(shape=(None, 7, 5), dtype=tf.float32, name='input')\n",
      "Output Type:\n",
      "  TensorSpec(shape=(None, 1), dtype=tf.float32, name=None)\n",
      "Captures:\n",
      "  133877916971280: TensorSpec(shape=(), dtype=tf.resource, name=None)\n",
      "  133877916973584: TensorSpec(shape=(), dtype=tf.resource, name=None)\n",
      "  133877916974544: TensorSpec(shape=(), dtype=tf.resource, name=None)\n",
      "  133877916974352: TensorSpec(shape=(), dtype=tf.resource, name=None)\n",
      "  133877916970896: TensorSpec(shape=(), dtype=tf.resource, name=None)\n",
      "  133877916972816: TensorSpec(shape=(), dtype=tf.resource, name=None)\n"
     ]
    },
    {
     "name": "stderr",
     "output_type": "stream",
     "text": [
      "WARNING: All log messages before absl::InitializeLog() is called are written to STDERR\n",
      "W0000 00:00:1751714431.240105    3198 tf_tfl_flatbuffer_helpers.cc:365] Ignored output_format.\n",
      "W0000 00:00:1751714431.240133    3198 tf_tfl_flatbuffer_helpers.cc:368] Ignored drop_control_dependency.\n",
      "2025-07-05 11:20:31.240533: I tensorflow/cc/saved_model/reader.cc:83] Reading SavedModel from: /tmp/tmp0kt46gwb\n",
      "2025-07-05 11:20:31.241040: I tensorflow/cc/saved_model/reader.cc:52] Reading meta graph with tags { serve }\n",
      "2025-07-05 11:20:31.241049: I tensorflow/cc/saved_model/reader.cc:147] Reading SavedModel debug info (if present) from: /tmp/tmp0kt46gwb\n",
      "I0000 00:00:1751714431.244242    3198 mlir_graph_optimization_pass.cc:425] MLIR V1 optimization pass is not enabled\n",
      "2025-07-05 11:20:31.244878: I tensorflow/cc/saved_model/loader.cc:236] Restoring SavedModel bundle.\n",
      "2025-07-05 11:20:31.269627: I tensorflow/cc/saved_model/loader.cc:220] Running initialization op on SavedModel bundle at path: /tmp/tmp0kt46gwb\n",
      "2025-07-05 11:20:31.276159: I tensorflow/cc/saved_model/loader.cc:471] SavedModel load for tags { serve }; Status: success: OK. Took 35630 microseconds.\n",
      "2025-07-05 11:20:31.370727: I tensorflow/compiler/mlir/tensorflow/utils/dump_mlir_util.cc:269] disabling MLIR crash reproducer, set env var `MLIR_CRASH_REPRODUCER_DIRECTORY` to enable.\n"
     ]
    },
    {
     "name": "stdout",
     "output_type": "stream",
     "text": [
      "TFLite model saved as readiness_model.tflite\n"
     ]
    }
   ],
   "source": [
    "converter = tf.lite.TFLiteConverter.from_keras_model(model)\n",
    "tflite_model = converter.convert()\n",
    "\n",
    "with open(\"readiness_model.tflite\", \"wb\") as f:\n",
    "    f.write(tflite_model)\n",
    "\n",
    "print(\"TFLite model saved as readiness_model.tflite\")"
   ]
  }
 ],
 "metadata": {
  "kernelspec": {
   "display_name": ".venv",
   "language": "python",
   "name": "python3"
  },
  "language_info": {
   "codemirror_mode": {
    "name": "ipython",
    "version": 3
   },
   "file_extension": ".py",
   "mimetype": "text/x-python",
   "name": "python",
   "nbconvert_exporter": "python",
   "pygments_lexer": "ipython3",
   "version": "3.12.3"
  }
 },
 "nbformat": 4,
 "nbformat_minor": 5
}
