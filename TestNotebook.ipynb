{
 "cells": [
  {
   "cell_type": "markdown",
   "id": "5124e4b3",
   "metadata": {},
   "source": [
    "# Import Statements"
   ]
  },
  {
   "cell_type": "code",
   "execution_count": 1,
   "id": "7f879a11",
   "metadata": {},
   "outputs": [
    {
     "name": "stderr",
     "output_type": "stream",
     "text": [
      "2025-07-07 11:12:05.734646: I external/local_xla/xla/tsl/cuda/cudart_stub.cc:32] Could not find cuda drivers on your machine, GPU will not be used.\n",
      "2025-07-07 11:12:05.737858: I external/local_xla/xla/tsl/cuda/cudart_stub.cc:32] Could not find cuda drivers on your machine, GPU will not be used.\n",
      "2025-07-07 11:12:05.746479: E external/local_xla/xla/stream_executor/cuda/cuda_fft.cc:467] Unable to register cuFFT factory: Attempting to register factory for plugin cuFFT when one has already been registered\n",
      "WARNING: All log messages before absl::InitializeLog() is called are written to STDERR\n",
      "E0000 00:00:1751886725.761980   12005 cuda_dnn.cc:8579] Unable to register cuDNN factory: Attempting to register factory for plugin cuDNN when one has already been registered\n",
      "E0000 00:00:1751886725.768965   12005 cuda_blas.cc:1407] Unable to register cuBLAS factory: Attempting to register factory for plugin cuBLAS when one has already been registered\n",
      "W0000 00:00:1751886725.787172   12005 computation_placer.cc:177] computation placer already registered. Please check linkage and avoid linking the same target more than once.\n",
      "W0000 00:00:1751886725.787193   12005 computation_placer.cc:177] computation placer already registered. Please check linkage and avoid linking the same target more than once.\n",
      "W0000 00:00:1751886725.787195   12005 computation_placer.cc:177] computation placer already registered. Please check linkage and avoid linking the same target more than once.\n",
      "W0000 00:00:1751886725.787197   12005 computation_placer.cc:177] computation placer already registered. Please check linkage and avoid linking the same target more than once.\n",
      "2025-07-07 11:12:05.791189: I tensorflow/core/platform/cpu_feature_guard.cc:210] This TensorFlow binary is optimized to use available CPU instructions in performance-critical operations.\n",
      "To enable the following instructions: AVX2 FMA, in other operations, rebuild TensorFlow with the appropriate compiler flags.\n"
     ]
    }
   ],
   "source": [
    "import numpy as np\n",
    "import pandas as pd\n",
    "import tensorflow as tf\n",
    "from tensorflow import keras\n",
    "from keras.models import Sequential\n",
    "from keras.layers import Conv1D, GlobalAveragePooling1D, Dense, Dropout, Input\n",
    "import os"
   ]
  },
  {
   "cell_type": "code",
   "execution_count": 2,
   "id": "ba09bc72",
   "metadata": {},
   "outputs": [
    {
     "name": "stdout",
     "output_type": "stream",
     "text": [
      "2.19.0\n"
     ]
    }
   ],
   "source": [
    "print(tf.__version__)"
   ]
  },
  {
   "cell_type": "markdown",
   "id": "bdd5c1e2",
   "metadata": {},
   "source": [
    "# Generate synthetic data and save as CSV if not present"
   ]
  },
  {
   "cell_type": "code",
   "execution_count": 3,
   "id": "62028682",
   "metadata": {},
   "outputs": [],
   "source": [
    "csv_path = \"health_data.csv\"\n",
    "if not os.path.exists(csv_path):\n",
    "    num_days = 120\n",
    "    np.random.seed(42)\n",
    "    dates = pd.date_range(end=pd.Timestamp.today(), periods=num_days)\n",
    "    df_synth = pd.DataFrame({\n",
    "        'date': dates,\n",
    "        'HRV': np.random.normal(50, 10, num_days),\n",
    "        'RHR': np.random.normal(60, 5, num_days),\n",
    "        'Sleep': np.random.normal(7, 1, num_days),\n",
    "        'Steps': np.random.normal(8000, 2000, num_days),\n",
    "        'Mood': np.random.normal(3, 1, num_days),\n",
    "        'Readiness': np.random.normal(75, 10, num_days)\n",
    "    })\n",
    "    df_synth.to_csv(csv_path, index=False)\n",
    "    print(f\"Synthetic data generated and saved to {csv_path}\")"
   ]
  },
  {
   "cell_type": "markdown",
   "id": "a3c3d259",
   "metadata": {},
   "source": [
    "# Load and preprocess data"
   ]
  },
  {
   "cell_type": "code",
   "execution_count": 4,
   "id": "8d425cbc",
   "metadata": {},
   "outputs": [],
   "source": [
    "df = pd.read_csv(csv_path, parse_dates=['date'])\n",
    "df = df.sort_values('date')\n",
    "\n",
    "feature_cols = ['HRV', 'RHR', 'Sleep', 'Steps', 'Mood']\n",
    "target_col = 'Readiness'\n",
    "\n",
    "df[feature_cols] = (df[feature_cols] - df[feature_cols].mean()) / df[feature_cols].std()"
   ]
  },
  {
   "cell_type": "markdown",
   "id": "888f559f",
   "metadata": {},
   "source": [
    "# Create sequences for model input"
   ]
  },
  {
   "cell_type": "code",
   "execution_count": 5,
   "id": "55f215f3",
   "metadata": {},
   "outputs": [
    {
     "name": "stdout",
     "output_type": "stream",
     "text": [
      "Shape of input X: (113, 7, 5)\n",
      "Shape of labels y: (113,)\n"
     ]
    }
   ],
   "source": [
    "sequence_length = 7\n",
    "X = []\n",
    "y = []\n",
    "\n",
    "for i in range(len(df)-sequence_length):\n",
    "    seq = df[feature_cols].iloc[i:i+sequence_length].values\n",
    "    label = df[target_col].iloc[i+sequence_length]\n",
    "    X.append(seq)\n",
    "    y.append(label)\n",
    "\n",
    "X = np.array(X)\n",
    "y = np.array(y)\n",
    "\n",
    "print(f\"Shape of input X: {X.shape}\")\n",
    "print(f\"Shape of labels y: {y.shape}\")\n",
    "    "
   ]
  },
  {
   "cell_type": "markdown",
   "id": "6323e9b0",
   "metadata": {},
   "source": [
    "# 3. Build the Conv1D model (TFLite-compatible)"
   ]
  },
  {
   "cell_type": "code",
   "execution_count": 6,
   "id": "83d5ace7",
   "metadata": {},
   "outputs": [
    {
     "name": "stderr",
     "output_type": "stream",
     "text": [
      "2025-07-07 11:12:08.705187: E external/local_xla/xla/stream_executor/cuda/cuda_platform.cc:51] failed call to cuInit: INTERNAL: CUDA error: Failed call to cuInit: UNKNOWN ERROR (303)\n"
     ]
    },
    {
     "data": {
      "text/html": [
       "<pre style=\"white-space:pre;overflow-x:auto;line-height:normal;font-family:Menlo,'DejaVu Sans Mono',consolas,'Courier New',monospace\"><span style=\"font-weight: bold\">Model: \"sequential\"</span>\n",
       "</pre>\n"
      ],
      "text/plain": [
       "\u001b[1mModel: \"sequential\"\u001b[0m\n"
      ]
     },
     "metadata": {},
     "output_type": "display_data"
    },
    {
     "data": {
      "text/html": [
       "<pre style=\"white-space:pre;overflow-x:auto;line-height:normal;font-family:Menlo,'DejaVu Sans Mono',consolas,'Courier New',monospace\">┏━━━━━━━━━━━━━━━━━━━━━━━━━━━━━━━━━┳━━━━━━━━━━━━━━━━━━━━━━━━┳━━━━━━━━━━━━━━━┓\n",
       "┃<span style=\"font-weight: bold\"> Layer (type)                    </span>┃<span style=\"font-weight: bold\"> Output Shape           </span>┃<span style=\"font-weight: bold\">       Param # </span>┃\n",
       "┡━━━━━━━━━━━━━━━━━━━━━━━━━━━━━━━━━╇━━━━━━━━━━━━━━━━━━━━━━━━╇━━━━━━━━━━━━━━━┩\n",
       "│ conv1d (<span style=\"color: #0087ff; text-decoration-color: #0087ff\">Conv1D</span>)                 │ (<span style=\"color: #00d7ff; text-decoration-color: #00d7ff\">None</span>, <span style=\"color: #00af00; text-decoration-color: #00af00\">7</span>, <span style=\"color: #00af00; text-decoration-color: #00af00\">32</span>)          │           <span style=\"color: #00af00; text-decoration-color: #00af00\">512</span> │\n",
       "├─────────────────────────────────┼────────────────────────┼───────────────┤\n",
       "│ global_average_pooling1d        │ (<span style=\"color: #00d7ff; text-decoration-color: #00d7ff\">None</span>, <span style=\"color: #00af00; text-decoration-color: #00af00\">32</span>)             │             <span style=\"color: #00af00; text-decoration-color: #00af00\">0</span> │\n",
       "│ (<span style=\"color: #0087ff; text-decoration-color: #0087ff\">GlobalAveragePooling1D</span>)        │                        │               │\n",
       "├─────────────────────────────────┼────────────────────────┼───────────────┤\n",
       "│ dense (<span style=\"color: #0087ff; text-decoration-color: #0087ff\">Dense</span>)                   │ (<span style=\"color: #00d7ff; text-decoration-color: #00d7ff\">None</span>, <span style=\"color: #00af00; text-decoration-color: #00af00\">32</span>)             │         <span style=\"color: #00af00; text-decoration-color: #00af00\">1,056</span> │\n",
       "├─────────────────────────────────┼────────────────────────┼───────────────┤\n",
       "│ dropout (<span style=\"color: #0087ff; text-decoration-color: #0087ff\">Dropout</span>)               │ (<span style=\"color: #00d7ff; text-decoration-color: #00d7ff\">None</span>, <span style=\"color: #00af00; text-decoration-color: #00af00\">32</span>)             │             <span style=\"color: #00af00; text-decoration-color: #00af00\">0</span> │\n",
       "├─────────────────────────────────┼────────────────────────┼───────────────┤\n",
       "│ dense_1 (<span style=\"color: #0087ff; text-decoration-color: #0087ff\">Dense</span>)                 │ (<span style=\"color: #00d7ff; text-decoration-color: #00d7ff\">None</span>, <span style=\"color: #00af00; text-decoration-color: #00af00\">1</span>)              │            <span style=\"color: #00af00; text-decoration-color: #00af00\">33</span> │\n",
       "└─────────────────────────────────┴────────────────────────┴───────────────┘\n",
       "</pre>\n"
      ],
      "text/plain": [
       "┏━━━━━━━━━━━━━━━━━━━━━━━━━━━━━━━━━┳━━━━━━━━━━━━━━━━━━━━━━━━┳━━━━━━━━━━━━━━━┓\n",
       "┃\u001b[1m \u001b[0m\u001b[1mLayer (type)                   \u001b[0m\u001b[1m \u001b[0m┃\u001b[1m \u001b[0m\u001b[1mOutput Shape          \u001b[0m\u001b[1m \u001b[0m┃\u001b[1m \u001b[0m\u001b[1m      Param #\u001b[0m\u001b[1m \u001b[0m┃\n",
       "┡━━━━━━━━━━━━━━━━━━━━━━━━━━━━━━━━━╇━━━━━━━━━━━━━━━━━━━━━━━━╇━━━━━━━━━━━━━━━┩\n",
       "│ conv1d (\u001b[38;5;33mConv1D\u001b[0m)                 │ (\u001b[38;5;45mNone\u001b[0m, \u001b[38;5;34m7\u001b[0m, \u001b[38;5;34m32\u001b[0m)          │           \u001b[38;5;34m512\u001b[0m │\n",
       "├─────────────────────────────────┼────────────────────────┼───────────────┤\n",
       "│ global_average_pooling1d        │ (\u001b[38;5;45mNone\u001b[0m, \u001b[38;5;34m32\u001b[0m)             │             \u001b[38;5;34m0\u001b[0m │\n",
       "│ (\u001b[38;5;33mGlobalAveragePooling1D\u001b[0m)        │                        │               │\n",
       "├─────────────────────────────────┼────────────────────────┼───────────────┤\n",
       "│ dense (\u001b[38;5;33mDense\u001b[0m)                   │ (\u001b[38;5;45mNone\u001b[0m, \u001b[38;5;34m32\u001b[0m)             │         \u001b[38;5;34m1,056\u001b[0m │\n",
       "├─────────────────────────────────┼────────────────────────┼───────────────┤\n",
       "│ dropout (\u001b[38;5;33mDropout\u001b[0m)               │ (\u001b[38;5;45mNone\u001b[0m, \u001b[38;5;34m32\u001b[0m)             │             \u001b[38;5;34m0\u001b[0m │\n",
       "├─────────────────────────────────┼────────────────────────┼───────────────┤\n",
       "│ dense_1 (\u001b[38;5;33mDense\u001b[0m)                 │ (\u001b[38;5;45mNone\u001b[0m, \u001b[38;5;34m1\u001b[0m)              │            \u001b[38;5;34m33\u001b[0m │\n",
       "└─────────────────────────────────┴────────────────────────┴───────────────┘\n"
      ]
     },
     "metadata": {},
     "output_type": "display_data"
    },
    {
     "data": {
      "text/html": [
       "<pre style=\"white-space:pre;overflow-x:auto;line-height:normal;font-family:Menlo,'DejaVu Sans Mono',consolas,'Courier New',monospace\"><span style=\"font-weight: bold\"> Total params: </span><span style=\"color: #00af00; text-decoration-color: #00af00\">1,601</span> (6.25 KB)\n",
       "</pre>\n"
      ],
      "text/plain": [
       "\u001b[1m Total params: \u001b[0m\u001b[38;5;34m1,601\u001b[0m (6.25 KB)\n"
      ]
     },
     "metadata": {},
     "output_type": "display_data"
    },
    {
     "data": {
      "text/html": [
       "<pre style=\"white-space:pre;overflow-x:auto;line-height:normal;font-family:Menlo,'DejaVu Sans Mono',consolas,'Courier New',monospace\"><span style=\"font-weight: bold\"> Trainable params: </span><span style=\"color: #00af00; text-decoration-color: #00af00\">1,601</span> (6.25 KB)\n",
       "</pre>\n"
      ],
      "text/plain": [
       "\u001b[1m Trainable params: \u001b[0m\u001b[38;5;34m1,601\u001b[0m (6.25 KB)\n"
      ]
     },
     "metadata": {},
     "output_type": "display_data"
    },
    {
     "data": {
      "text/html": [
       "<pre style=\"white-space:pre;overflow-x:auto;line-height:normal;font-family:Menlo,'DejaVu Sans Mono',consolas,'Courier New',monospace\"><span style=\"font-weight: bold\"> Non-trainable params: </span><span style=\"color: #00af00; text-decoration-color: #00af00\">0</span> (0.00 B)\n",
       "</pre>\n"
      ],
      "text/plain": [
       "\u001b[1m Non-trainable params: \u001b[0m\u001b[38;5;34m0\u001b[0m (0.00 B)\n"
      ]
     },
     "metadata": {},
     "output_type": "display_data"
    }
   ],
   "source": [
    "def build_readiness_model(seq_len, num_features):\n",
    "    model = Sequential([\n",
    "        Input(shape=(seq_len, num_features), name=\"input\"),\n",
    "        Conv1D(32, kernel_size=3, activation='relu', padding='same'),\n",
    "        GlobalAveragePooling1D(),\n",
    "        Dense(32, activation='relu'),\n",
    "        Dropout(0.2),\n",
    "        Dense(1, activation='linear')\n",
    "    ])\n",
    "    model.compile(optimizer='adam', loss='mse', metrics=['mae'])\n",
    "    return model\n",
    "\n",
    "model = build_readiness_model(sequence_length, len(feature_cols))\n",
    "model.summary()"
   ]
  },
  {
   "cell_type": "markdown",
   "id": "936b3d30",
   "metadata": {},
   "source": [
    "# Train the model"
   ]
  },
  {
   "cell_type": "code",
   "execution_count": 7,
   "id": "1935b4e9",
   "metadata": {},
   "outputs": [
    {
     "name": "stdout",
     "output_type": "stream",
     "text": [
      "Epoch 1/30\n"
     ]
    },
    {
     "name": "stdout",
     "output_type": "stream",
     "text": [
      "12/12 - 1s - 85ms/step - loss: 5686.0278 - mae: 74.6514 - val_loss: 5522.0845 - val_mae: 73.6440\n",
      "Epoch 2/30\n",
      "12/12 - 0s - 6ms/step - loss: 5631.1523 - mae: 74.2836 - val_loss: 5465.8525 - val_mae: 73.2625\n",
      "Epoch 3/30\n",
      "12/12 - 0s - 6ms/step - loss: 5564.4116 - mae: 73.8292 - val_loss: 5399.3804 - val_mae: 72.8086\n",
      "Epoch 4/30\n",
      "12/12 - 0s - 6ms/step - loss: 5488.0439 - mae: 73.3075 - val_loss: 5322.1489 - val_mae: 72.2778\n",
      "Epoch 5/30\n",
      "12/12 - 0s - 6ms/step - loss: 5397.9395 - mae: 72.7005 - val_loss: 5231.9048 - val_mae: 71.6524\n",
      "Epoch 6/30\n",
      "12/12 - 0s - 6ms/step - loss: 5264.8130 - mae: 71.7810 - val_loss: 5123.3237 - val_mae: 70.8922\n",
      "Epoch 7/30\n",
      "12/12 - 0s - 5ms/step - loss: 5125.4336 - mae: 70.8073 - val_loss: 4992.5430 - val_mae: 69.9655\n",
      "Epoch 8/30\n",
      "12/12 - 0s - 6ms/step - loss: 4987.4482 - mae: 69.8194 - val_loss: 4838.7842 - val_mae: 68.8603\n",
      "Epoch 9/30\n",
      "12/12 - 0s - 6ms/step - loss: 4754.8618 - mae: 68.1636 - val_loss: 4659.3223 - val_mae: 67.5465\n",
      "Epoch 10/30\n",
      "12/12 - 0s - 6ms/step - loss: 4545.6836 - mae: 66.5725 - val_loss: 4450.8315 - val_mae: 65.9876\n",
      "Epoch 11/30\n",
      "12/12 - 0s - 6ms/step - loss: 4269.2725 - mae: 64.4406 - val_loss: 4213.5142 - val_mae: 64.1661\n",
      "Epoch 12/30\n",
      "12/12 - 0s - 6ms/step - loss: 3952.2412 - mae: 62.0006 - val_loss: 3946.5242 - val_mae: 62.0518\n",
      "Epoch 13/30\n",
      "12/12 - 0s - 6ms/step - loss: 3695.3208 - mae: 59.7464 - val_loss: 3652.9160 - val_mae: 59.6395\n",
      "Epoch 14/30\n",
      "12/12 - 0s - 6ms/step - loss: 3269.0879 - mae: 56.1639 - val_loss: 3345.6284 - val_mae: 57.0035\n",
      "Epoch 15/30\n",
      "12/12 - 0s - 6ms/step - loss: 2822.1707 - mae: 52.0132 - val_loss: 3013.3135 - val_mae: 54.0062\n",
      "Epoch 16/30\n",
      "12/12 - 0s - 11ms/step - loss: 2456.6169 - mae: 48.2679 - val_loss: 2672.7268 - val_mae: 50.7473\n",
      "Epoch 17/30\n",
      "12/12 - 0s - 6ms/step - loss: 2035.8610 - mae: 43.8134 - val_loss: 2328.0393 - val_mae: 47.2181\n",
      "Epoch 18/30\n",
      "12/12 - 0s - 6ms/step - loss: 1748.2611 - mae: 40.2864 - val_loss: 1998.3514 - val_mae: 43.5710\n",
      "Epoch 19/30\n",
      "12/12 - 0s - 6ms/step - loss: 1337.6726 - mae: 34.3015 - val_loss: 1687.6310 - val_mae: 39.8246\n",
      "Epoch 20/30\n",
      "12/12 - 0s - 6ms/step - loss: 1054.4626 - mae: 29.9766 - val_loss: 1408.0540 - val_mae: 36.1157\n",
      "Epoch 21/30\n",
      "12/12 - 0s - 6ms/step - loss: 810.8144 - mae: 25.8933 - val_loss: 1152.2853 - val_mae: 32.3448\n",
      "Epoch 22/30\n",
      "12/12 - 0s - 6ms/step - loss: 580.2307 - mae: 20.9885 - val_loss: 950.6586 - val_mae: 29.0242\n",
      "Epoch 23/30\n",
      "12/12 - 0s - 7ms/step - loss: 412.4678 - mae: 17.3576 - val_loss: 796.6793 - val_mae: 26.1979\n",
      "Epoch 24/30\n",
      "12/12 - 0s - 10ms/step - loss: 350.8221 - mae: 14.8088 - val_loss: 679.4216 - val_mae: 23.8213\n",
      "Epoch 25/30\n",
      "12/12 - 0s - 6ms/step - loss: 320.6703 - mae: 14.4781 - val_loss: 577.1739 - val_mae: 21.5391\n",
      "Epoch 26/30\n",
      "12/12 - 0s - 6ms/step - loss: 251.6205 - mae: 12.7866 - val_loss: 504.0089 - val_mae: 19.7639\n",
      "Epoch 27/30\n",
      "12/12 - 0s - 6ms/step - loss: 290.5235 - mae: 13.8891 - val_loss: 452.7110 - val_mae: 18.5239\n",
      "Epoch 28/30\n",
      "12/12 - 0s - 6ms/step - loss: 229.1171 - mae: 11.9271 - val_loss: 433.1600 - val_mae: 18.0315\n",
      "Epoch 29/30\n",
      "12/12 - 0s - 6ms/step - loss: 239.4635 - mae: 12.6807 - val_loss: 418.7404 - val_mae: 17.6611\n",
      "Epoch 30/30\n",
      "12/12 - 0s - 6ms/step - loss: 253.5500 - mae: 11.9452 - val_loss: 399.1626 - val_mae: 17.1366\n"
     ]
    }
   ],
   "source": [
    "history = model.fit(\n",
    "    X, y,\n",
    "    epochs=30,\n",
    "    batch_size=8,\n",
    "    validation_split=0.2,\n",
    "    verbose=2\n",
    ")"
   ]
  },
  {
   "cell_type": "markdown",
   "id": "46321bbe",
   "metadata": {},
   "source": [
    "# Export to Tensorflow Lite model"
   ]
  },
  {
   "cell_type": "code",
   "execution_count": 8,
   "id": "9d28b6c2",
   "metadata": {},
   "outputs": [
    {
     "name": "stdout",
     "output_type": "stream",
     "text": [
      "INFO:tensorflow:Assets written to: /tmp/tmpsdlexe6z/assets\n"
     ]
    },
    {
     "name": "stderr",
     "output_type": "stream",
     "text": [
      "INFO:tensorflow:Assets written to: /tmp/tmpsdlexe6z/assets\n"
     ]
    },
    {
     "name": "stdout",
     "output_type": "stream",
     "text": [
      "Saved artifact at '/tmp/tmpsdlexe6z'. The following endpoints are available:\n",
      "\n",
      "* Endpoint 'serve'\n",
      "  args_0 (POSITIONAL_ONLY): TensorSpec(shape=(None, 7, 5), dtype=tf.float32, name='input')\n",
      "Output Type:\n",
      "  TensorSpec(shape=(None, 1), dtype=tf.float32, name=None)\n",
      "Captures:\n",
      "  135760500637328: TensorSpec(shape=(), dtype=tf.resource, name=None)\n",
      "  135760500636560: TensorSpec(shape=(), dtype=tf.resource, name=None)\n",
      "  135760495002448: TensorSpec(shape=(), dtype=tf.resource, name=None)\n",
      "  135760495004560: TensorSpec(shape=(), dtype=tf.resource, name=None)\n",
      "  135760495003792: TensorSpec(shape=(), dtype=tf.resource, name=None)\n",
      "  135760495005136: TensorSpec(shape=(), dtype=tf.resource, name=None)\n",
      "TFLite model saved as readiness_model.tflite\n"
     ]
    },
    {
     "name": "stderr",
     "output_type": "stream",
     "text": [
      "WARNING: All log messages before absl::InitializeLog() is called are written to STDERR\n",
      "W0000 00:00:1751886732.382636   12005 tf_tfl_flatbuffer_helpers.cc:365] Ignored output_format.\n",
      "W0000 00:00:1751886732.382659   12005 tf_tfl_flatbuffer_helpers.cc:368] Ignored drop_control_dependency.\n",
      "2025-07-07 11:12:12.382969: I tensorflow/cc/saved_model/reader.cc:83] Reading SavedModel from: /tmp/tmpsdlexe6z\n",
      "2025-07-07 11:12:12.383363: I tensorflow/cc/saved_model/reader.cc:52] Reading meta graph with tags { serve }\n",
      "2025-07-07 11:12:12.383371: I tensorflow/cc/saved_model/reader.cc:147] Reading SavedModel debug info (if present) from: /tmp/tmpsdlexe6z\n",
      "I0000 00:00:1751886732.386731   12005 mlir_graph_optimization_pass.cc:425] MLIR V1 optimization pass is not enabled\n",
      "2025-07-07 11:12:12.387417: I tensorflow/cc/saved_model/loader.cc:236] Restoring SavedModel bundle.\n",
      "2025-07-07 11:12:12.407982: I tensorflow/cc/saved_model/loader.cc:220] Running initialization op on SavedModel bundle at path: /tmp/tmpsdlexe6z\n",
      "2025-07-07 11:12:12.414342: I tensorflow/cc/saved_model/loader.cc:471] SavedModel load for tags { serve }; Status: success: OK. Took 31376 microseconds.\n",
      "2025-07-07 11:12:12.423638: I tensorflow/compiler/mlir/tensorflow/utils/dump_mlir_util.cc:269] disabling MLIR crash reproducer, set env var `MLIR_CRASH_REPRODUCER_DIRECTORY` to enable.\n"
     ]
    }
   ],
   "source": [
    "converter = tf.lite.TFLiteConverter.from_keras_model(model)\n",
    "tflite_model = converter.convert()\n",
    "\n",
    "with open(\"readiness_model.tflite\", \"wb\") as f:\n",
    "    f.write(tflite_model)\n",
    "\n",
    "print(\"TFLite model saved as readiness_model.tflite\")"
   ]
  }
 ],
 "metadata": {
  "kernelspec": {
   "display_name": "Python 3",
   "language": "python",
   "name": "python3"
  },
  "language_info": {
   "codemirror_mode": {
    "name": "ipython",
    "version": 3
   },
   "file_extension": ".py",
   "mimetype": "text/x-python",
   "name": "python",
   "nbconvert_exporter": "python",
   "pygments_lexer": "ipython3",
   "version": "3.12.1"
  }
 },
 "nbformat": 4,
 "nbformat_minor": 5
}
